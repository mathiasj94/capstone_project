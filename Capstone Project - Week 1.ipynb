{
    "cells": [
        {
            "cell_type": "markdown",
            "metadata": {
                "collapsed": true
            },
            "source": "\n## Capstone Project\nby *Mathias J\u00f8rgensen*\n"
        },
        {
            "cell_type": "markdown",
            "metadata": {},
            "source": "## Introduction:\n\nI am working for a high-end restaurant chain and am trying to an area to open a Michellin-type restaurant in.\nMy stakeholders, the investors in EATWELL Corp, are very keen on finding the perfect location to open this new restaurant.\n\nHaving conversed with several of my teams members and brainstormed, we have defined the spot for us would be:\n- An area where the housing prices are above the average in London.\n- Easy access to public transport\n- Other well-renowned restaurants in the vicinity\n\nWe need to present the perfect location to our stakeholders, the investors.\n"
        },
        {
            "cell_type": "markdown",
            "metadata": {},
            "source": "## Data\n\nTo get information on all property transactions in London, we have found the data which HM Land Registry publishes on their website. (http://landregistry.data.gov.uk/). All of this information is publicly available due to the government wanting to promote economic growth and data transparency. A total of three datasets are available, with the first one being our main priority in this report:\n\n- Price paid data updated monthly, data available from 1995.\n- Transaction data updated monthly, data available from December 2011.\n- UK House Price Index downloads updated monthly, data available from January 1995.\n\nThe datasets come in comma-separated value (csv) and linked data formats, with Price Paid Data also available as a text file. The dataset we will use for this report will be download from the following link for the 2019 version: http://prod2.publicdata.landregistry.gov.uk.s3-website-eu-west-1.amazonaws.com/pp-2019.csv\n\nIn the Price Paid Data, we have a broad selection of information, including the the following information:\n- Postcode \n- PAON Primary Addressable Object Name (Typically the house number or name)\n- SAON Secondary Addressable Object Name (If there is a sub-building, for example, the building is divided into flats, there will be a SAON) \n- Street\n- Locality \n- Town/City \n- District \n- County\n\nFurthermore, to explorer the restaurants in the areas we will access the FourSquare API and combine this information with the above dataset to find an area which is both in the high end of housing prices and with other well-reviewed restaurants near in order for us to identify the area as a good fit for a new restaurant.\n"
        },
        {
            "cell_type": "code",
            "execution_count": null,
            "metadata": {},
            "outputs": [],
            "source": ""
        }
    ],
    "metadata": {
        "kernelspec": {
            "display_name": "Python 3.6",
            "language": "python",
            "name": "python3"
        },
        "language_info": {
            "codemirror_mode": {
                "name": "ipython",
                "version": 3
            },
            "file_extension": ".py",
            "mimetype": "text/x-python",
            "name": "python",
            "nbconvert_exporter": "python",
            "pygments_lexer": "ipython3",
            "version": "3.6.8"
        }
    },
    "nbformat": 4,
    "nbformat_minor": 1
}