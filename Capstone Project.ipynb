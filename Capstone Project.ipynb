{
    "cells": [
        {
            "metadata": {
                "collapsed": true
            },
            "cell_type": "markdown",
            "source": "\n## Capstone Project\nby *Mathias J\u00f8rgensen*\n"
        },
        {
            "metadata": {},
            "cell_type": "markdown",
            "source": "## Introduction \nBusiness Problem:\n\nOur problem is that"
        },
        {
            "metadata": {},
            "cell_type": "code",
            "source": "#libraries we need for this project\n\nimport numpy as np\nimport pandas as pd\n",
            "execution_count": 1,
            "outputs": []
        },
        {
            "metadata": {},
            "cell_type": "code",
            "source": "",
            "execution_count": null,
            "outputs": []
        }
    ],
    "metadata": {
        "kernelspec": {
            "name": "python3",
            "display_name": "Python 3.6",
            "language": "python"
        },
        "language_info": {
            "name": "python",
            "version": "3.6.8",
            "mimetype": "text/x-python",
            "codemirror_mode": {
                "name": "ipython",
                "version": 3
            },
            "pygments_lexer": "ipython3",
            "nbconvert_exporter": "python",
            "file_extension": ".py"
        }
    },
    "nbformat": 4,
    "nbformat_minor": 1
}